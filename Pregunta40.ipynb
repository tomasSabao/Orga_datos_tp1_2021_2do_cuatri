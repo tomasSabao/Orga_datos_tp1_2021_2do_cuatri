{
 "cells": [
  {
   "cell_type": "markdown",
   "metadata": {},
   "source": [
    "### Pregunta 40: Para contenidos geolocalizados, ¿Cual es el contenido mas cercano del que fue editado mas recientemente? ¿Y la diferencia entre sus tiempos de edicion?"
   ]
  },
  {
   "cell_type": "code",
   "execution_count": 1,
   "metadata": {},
   "outputs": [],
   "source": [
    "import pandas as pd\n",
    "import numpy as np"
   ]
  },
  {
   "cell_type": "code",
   "execution_count": 2,
   "metadata": {},
   "outputs": [],
   "source": [
    "columnas=['id','revision_timestamp']\n",
    "contenidos_df=pd.read_csv(\"contents.csv\",usecols=columnas,infer_datetime_format=True)\n",
    "contenidos_df.dropna(inplace=True)\n",
    "contenidos_df['revision_timestamp']=pd.to_datetime(contenidos_df['revision_timestamp'])"
   ]
  },
  {
   "cell_type": "markdown",
   "metadata": {},
   "source": [
    "Se toma como punto de referencia temporal el momento en el cual se ejecuta el notebook"
   ]
  },
  {
   "cell_type": "code",
   "execution_count": 3,
   "metadata": {},
   "outputs": [],
   "source": [
    "from datetime import datetime\n",
    "ahora=datetime.now()"
   ]
  },
  {
   "cell_type": "code",
   "execution_count": 4,
   "metadata": {},
   "outputs": [],
   "source": [
    "contenidos_df['revision_timestamp']=pd.to_datetime(contenidos_df.revision_timestamp).dt.tz_convert(None)\n",
    "contenidos_df['revision_timestamp']=contenidos_df['revision_timestamp']-ahora\n",
    "contenidos_df['dif_minutos']=contenidos_df['revision_timestamp'].astype('timedelta64[m]')\n",
    "contenidos_df=contenidos_df.loc[:,['id','dif_minutos']]\n",
    "contenidos_df['dif_minutos']=contenidos_df['dif_minutos']*(-1)"
   ]
  },
  {
   "cell_type": "code",
   "execution_count": null,
   "metadata": {},
   "outputs": [],
   "source": []
  },
  {
   "cell_type": "code",
   "execution_count": 5,
   "metadata": {},
   "outputs": [],
   "source": [
    "columnas=[\"gt_page_id\",\"gt_lat\",\"gt_lon\"]\n",
    "geo_tags_df=pd.read_csv(\"geo_tags.csv\", usecols=columnas)\n",
    "geo_tags_df=geo_tags_df.rename(columns={\"gt_page_id\":\"id\"})"
   ]
  },
  {
   "cell_type": "markdown",
   "metadata": {},
   "source": [
    "Puede ocurrir que el contenido mas recientemente alterado no tenga datos de geolocalizacion. Se va a conseguir entonces el contenido mas recientemente alterado del que tengamos informacion"
   ]
  },
  {
   "cell_type": "code",
   "execution_count": 6,
   "metadata": {},
   "outputs": [],
   "source": [
    "geo_tags_df=geo_tags_df.merge(contenidos_df, on='id')\n",
    "geo_tags_df=geo_tags_df.sort_values(\"dif_minutos\", ascending = True)"
   ]
  },
  {
   "cell_type": "code",
   "execution_count": 7,
   "metadata": {},
   "outputs": [
    {
     "data": {
      "text/html": [
       "<div>\n",
       "<style scoped>\n",
       "    .dataframe tbody tr th:only-of-type {\n",
       "        vertical-align: middle;\n",
       "    }\n",
       "\n",
       "    .dataframe tbody tr th {\n",
       "        vertical-align: top;\n",
       "    }\n",
       "\n",
       "    .dataframe thead th {\n",
       "        text-align: right;\n",
       "    }\n",
       "</style>\n",
       "<table border=\"1\" class=\"dataframe\">\n",
       "  <thead>\n",
       "    <tr style=\"text-align: right;\">\n",
       "      <th></th>\n",
       "      <th>id</th>\n",
       "      <th>gt_lat</th>\n",
       "      <th>gt_lon</th>\n",
       "      <th>dif_minutos</th>\n",
       "    </tr>\n",
       "  </thead>\n",
       "  <tbody>\n",
       "    <tr>\n",
       "      <th>535116</th>\n",
       "      <td>650097</td>\n",
       "      <td>42.599722</td>\n",
       "      <td>-6.725556</td>\n",
       "      <td>60785.0</td>\n",
       "    </tr>\n",
       "  </tbody>\n",
       "</table>\n",
       "</div>"
      ],
      "text/plain": [
       "            id     gt_lat    gt_lon  dif_minutos\n",
       "535116  650097  42.599722 -6.725556      60785.0"
      ]
     },
     "execution_count": 7,
     "metadata": {},
     "output_type": "execute_result"
    }
   ],
   "source": [
    "geo_tags_df.head(1)"
   ]
  },
  {
   "cell_type": "markdown",
   "metadata": {},
   "source": [
    "El contenido mas recientemente cambiado tiene el id 650097 "
   ]
  },
  {
   "cell_type": "code",
   "execution_count": 10,
   "metadata": {},
   "outputs": [],
   "source": [
    "lat_mas_reciente=42.599722\n",
    "long_mas_reciente=-6.725556"
   ]
  },
  {
   "cell_type": "code",
   "execution_count": 11,
   "metadata": {},
   "outputs": [],
   "source": [
    "geo_tags_df=geo_tags_df.loc[geo_tags_df['id'] != 650097, :]"
   ]
  },
  {
   "cell_type": "code",
   "execution_count": 12,
   "metadata": {},
   "outputs": [],
   "source": [
    "geo_tags_df['distancia_al_reciente']=np.sqrt( (geo_tags_df['gt_lat']-lat_mas_reciente )**2  + (geo_tags_df['gt_lon'] - long_mas_reciente)**2 )"
   ]
  },
  {
   "cell_type": "code",
   "execution_count": 13,
   "metadata": {},
   "outputs": [],
   "source": [
    "geo_tags_df=geo_tags_df.sort_values(\"distancia_al_reciente\", ascending = True)"
   ]
  },
  {
   "cell_type": "code",
   "execution_count": 14,
   "metadata": {},
   "outputs": [
    {
     "data": {
      "text/html": [
       "<div>\n",
       "<style scoped>\n",
       "    .dataframe tbody tr th:only-of-type {\n",
       "        vertical-align: middle;\n",
       "    }\n",
       "\n",
       "    .dataframe tbody tr th {\n",
       "        vertical-align: top;\n",
       "    }\n",
       "\n",
       "    .dataframe thead th {\n",
       "        text-align: right;\n",
       "    }\n",
       "</style>\n",
       "<table border=\"1\" class=\"dataframe\">\n",
       "  <thead>\n",
       "    <tr style=\"text-align: right;\">\n",
       "      <th></th>\n",
       "      <th>id</th>\n",
       "      <th>gt_lat</th>\n",
       "      <th>gt_lon</th>\n",
       "      <th>dif_minutos</th>\n",
       "      <th>distancia_al_reciente</th>\n",
       "    </tr>\n",
       "  </thead>\n",
       "  <tbody>\n",
       "    <tr>\n",
       "      <th>231911</th>\n",
       "      <td>6102755</td>\n",
       "      <td>42.599722</td>\n",
       "      <td>-6.725556</td>\n",
       "      <td>262114.0</td>\n",
       "      <td>0.0</td>\n",
       "    </tr>\n",
       "  </tbody>\n",
       "</table>\n",
       "</div>"
      ],
      "text/plain": [
       "             id     gt_lat    gt_lon  dif_minutos  distancia_al_reciente\n",
       "231911  6102755  42.599722 -6.725556     262114.0                    0.0"
      ]
     },
     "execution_count": 14,
     "metadata": {},
     "output_type": "execute_result"
    }
   ],
   "source": [
    "geo_tags_df.head(1)"
   ]
  },
  {
   "cell_type": "markdown",
   "metadata": {},
   "source": [
    "Entonces el contenido más cercano al más recientemente editado es el contenido 6102755, y tiene una diferencia de 247418 minutos (Aproximadamente 172 dias) de tiempo entre ambos."
   ]
  },
  {
   "cell_type": "code",
   "execution_count": null,
   "metadata": {},
   "outputs": [],
   "source": []
  }
 ],
 "metadata": {
  "kernelspec": {
   "display_name": "Python 3",
   "language": "python",
   "name": "python3"
  },
  "language_info": {
   "codemirror_mode": {
    "name": "ipython",
    "version": 3
   },
   "file_extension": ".py",
   "mimetype": "text/x-python",
   "name": "python",
   "nbconvert_exporter": "python",
   "pygments_lexer": "ipython3",
   "version": "3.6.9"
  }
 },
 "nbformat": 4,
 "nbformat_minor": 2
}
