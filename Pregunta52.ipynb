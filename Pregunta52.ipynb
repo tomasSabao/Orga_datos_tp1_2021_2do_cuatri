{
 "cells": [
  {
   "cell_type": "markdown",
   "metadata": {},
   "source": [
    "### Pregunta 52: Si decimos que un usuario sabe un idioma cuando tiene un nivel de babel mayor o igual a 1, para cada grupo de usuarios que sabe una determinada cantidad de idiomas, ¿Cuántos de esos usuarios fueron bloqueados al menos una vez?"
   ]
  },
  {
   "cell_type": "code",
   "execution_count": 1,
   "metadata": {},
   "outputs": [],
   "source": [
    "import pandas as pd\n",
    "import numpy as np"
   ]
  },
  {
   "cell_type": "code",
   "execution_count": 2,
   "metadata": {},
   "outputs": [],
   "source": [
    "columnas=[\"title\",\"action\"]\n",
    "logs_df=pd.read_csv(\"logs.csv\",usecols=columnas)\n",
    "logs_df=logs_df.loc[logs_df['action']==\"block\",:]\n",
    "logs_df.dropna(inplace = True)\n",
    "logs_df['user_blocked'] = logs_df['title'].str.replace('Usuario:','') "
   ]
  },
  {
   "cell_type": "code",
   "execution_count": 3,
   "metadata": {},
   "outputs": [],
   "source": [
    "logs_df=logs_df.loc[:,[\"user_blocked\"]]\n",
    "logs_df['Fue_bloqueado']=1\n",
    "blocked_users=logs_df.loc[:,['user_blocked','Fue_bloqueado']].drop_duplicates()"
   ]
  },
  {
   "cell_type": "code",
   "execution_count": null,
   "metadata": {},
   "outputs": [],
   "source": []
  },
  {
   "cell_type": "code",
   "execution_count": 4,
   "metadata": {},
   "outputs": [],
   "source": [
    "lenguaje_df=pd.read_csv(\"languages.csv\")\n",
    "lenguaje_df.dropna(inplace=True)\n",
    "lenguaje_df['babel_level']=lenguaje_df['babel_level'].astype(\"string\")\n",
    "lenguaje_df=lenguaje_df.loc[lenguaje_df['babel_level']!=\"0\",['babel_user','babel_level']]\n",
    "lenguaje_df=lenguaje_df.groupby('babel_user').agg('count').reset_index()\n",
    "lenguaje_df=lenguaje_df.rename(columns={'babel_level':'num_idiomas'})"
   ]
  },
  {
   "cell_type": "code",
   "execution_count": 5,
   "metadata": {},
   "outputs": [],
   "source": [
    "usuarios_por_num_idiomas=lenguaje_df.groupby('num_idiomas').agg('sum').reset_index()"
   ]
  },
  {
   "cell_type": "markdown",
   "metadata": {},
   "source": [
    "Se tiene el usuario de babel y el numero de idiomas distintos que conoce. Se necesita ahora vincularlo con aquellos usuarios que fueron bloqueados. "
   ]
  },
  {
   "cell_type": "markdown",
   "metadata": {},
   "source": [
    "Ahora que tengo todos los usernames de los usuarios bloqueados, hago join con el dataframe de (usuario, cantidad de idiomas conocidos)"
   ]
  },
  {
   "cell_type": "code",
   "execution_count": 28,
   "metadata": {},
   "outputs": [],
   "source": [
    "columnas=['contributor_username','contributor_id']\n",
    "id_df=pd.read_csv(\"logs.csv\",usecols=columnas)\n",
    "id_df.drop_duplicates(inplace=True)"
   ]
  },
  {
   "cell_type": "markdown",
   "metadata": {},
   "source": [
    "Entiendo que el id del contributor en los logs es el mismo que el presente en el babel user. Puede ser que los datos que yo tengo de usuarios de babel no se correspondan todos con un valor de contributor id presente en los logs. Entonces deberia ver sobre cuales de ellos tengo informacion."
   ]
  },
  {
   "cell_type": "code",
   "execution_count": 29,
   "metadata": {},
   "outputs": [],
   "source": [
    "lenguaje_df['babel_user']=lenguaje_df['babel_user'].astype('object')"
   ]
  },
  {
   "cell_type": "code",
   "execution_count": 30,
   "metadata": {},
   "outputs": [],
   "source": [
    "id_df=id_df.rename(columns={'contributor_id':'babel_user'})"
   ]
  },
  {
   "cell_type": "code",
   "execution_count": 31,
   "metadata": {},
   "outputs": [],
   "source": [
    "babel_users_con_info_en_logs=lenguaje_df.merge(id_df, on='babel_user')"
   ]
  },
  {
   "cell_type": "markdown",
   "metadata": {},
   "source": [
    "Conociendo usernames de usuarios de babel, puedo ahora vincularlos con los usuarios que fueron bloqueados"
   ]
  },
  {
   "cell_type": "code",
   "execution_count": 32,
   "metadata": {},
   "outputs": [],
   "source": [
    "username_num_idiomas_bloqueados=babel_users_con_info_en_logs.loc[:,['babel_user','num_idiomas','contributor_username']]\\\n",
    "                                                            .rename(columns={'contributor_username':'user_blocked'})\\\n",
    "                                                            .merge(blocked_users,on='user_blocked')"
   ]
  },
  {
   "cell_type": "code",
   "execution_count": 33,
   "metadata": {},
   "outputs": [],
   "source": [
    "username_num_idiomas_bloqueados=username_num_idiomas_bloqueados.loc[:,['num_idiomas','Fue_bloqueado']]\\\n",
    "                                                                .groupby('num_idiomas').agg('sum').reset_index()"
   ]
  },
  {
   "cell_type": "code",
   "execution_count": null,
   "metadata": {},
   "outputs": [],
   "source": [
    "columnas=['contributor_ip','contributor_id']\n",
    "ip_df=pd.read_csv(\"logs.csv\",usecols=columnas)\n",
    "ip_df.dropna(inplace=True)"
   ]
  },
  {
   "cell_type": "code",
   "execution_count": null,
   "metadata": {},
   "outputs": [],
   "source": [
    "ip_df"
   ]
  },
  {
   "cell_type": "markdown",
   "metadata": {},
   "source": [
    "El archivo de logs al parecer no tiene filas que posean tanto direccion ip como user id. Si las tuviera, se podria ejecutar el siguiente codigo (sabemos que entre los usuarios bloqueados hay direcciones ip)"
   ]
  },
  {
   "cell_type": "code",
   "execution_count": 23,
   "metadata": {},
   "outputs": [],
   "source": [
    "#ips_num_idiomas_bloqueados=babel_users_con_info_en_logs.loc[:,['babel_user','num_idiomas','contributor_ip']]\\\n",
    "#                                                            .rename(columns={'contributor_ip':'user_blocked'})\\\n",
    "#                                                           .merge(blocked_users,on='user_blocked')"
   ]
  },
  {
   "cell_type": "code",
   "execution_count": null,
   "metadata": {},
   "outputs": [],
   "source": [
    "#ips_num_idiomas_bloqueados=ips_num_idiomas_bloqueados.loc[:,['num_idiomas','Fue_bloqueado']]\\\n",
    "#                                                                .groupby('num_idiomas').agg('sum').reset_index()"
   ]
  },
  {
   "cell_type": "code",
   "execution_count": null,
   "metadata": {},
   "outputs": [],
   "source": [
    "#usuarios_bloqueados_por_num_idiomas=pd.concat([username_num_idiomas_bloqueados,ips_num_idiomas_bloqueados])\n",
    "#                                    .groupby('num_idiomas').agg('sum').reset_index()"
   ]
  },
  {
   "cell_type": "markdown",
   "metadata": {},
   "source": [
    "Se tiene la cantidad de usuarios bloqueados a partir del username, asi que usamos eso para la resolucion"
   ]
  },
  {
   "cell_type": "code",
   "execution_count": 54,
   "metadata": {},
   "outputs": [],
   "source": [
    "resolucion = usuarios_por_num_idiomas.merge(username_num_idiomas_bloqueados, on ='num_idiomas', how='left')\n",
    "resolucion = resolucion.fillna(0)"
   ]
  },
  {
   "cell_type": "code",
   "execution_count": 57,
   "metadata": {},
   "outputs": [],
   "source": [
    "resolucion=resolucion.rename(columns = {'Fue_bloqueado':'numero_usuarios_bloqueados','Babel_user':'numero_usuarios'})"
   ]
  },
  {
   "cell_type": "code",
   "execution_count": 58,
   "metadata": {},
   "outputs": [
    {
     "data": {
      "text/html": [
       "<div>\n",
       "<style scoped>\n",
       "    .dataframe tbody tr th:only-of-type {\n",
       "        vertical-align: middle;\n",
       "    }\n",
       "\n",
       "    .dataframe tbody tr th {\n",
       "        vertical-align: top;\n",
       "    }\n",
       "\n",
       "    .dataframe thead th {\n",
       "        text-align: right;\n",
       "    }\n",
       "</style>\n",
       "<table border=\"1\" class=\"dataframe\">\n",
       "  <thead>\n",
       "    <tr style=\"text-align: right;\">\n",
       "      <th></th>\n",
       "      <th>num_idiomas</th>\n",
       "      <th>babel_user</th>\n",
       "      <th>numero_usuarios_bloqueados</th>\n",
       "    </tr>\n",
       "  </thead>\n",
       "  <tbody>\n",
       "    <tr>\n",
       "      <th>0</th>\n",
       "      <td>1</td>\n",
       "      <td>1876733204</td>\n",
       "      <td>93.0</td>\n",
       "    </tr>\n",
       "    <tr>\n",
       "      <th>1</th>\n",
       "      <td>2</td>\n",
       "      <td>5326625659</td>\n",
       "      <td>182.0</td>\n",
       "    </tr>\n",
       "    <tr>\n",
       "      <th>2</th>\n",
       "      <td>3</td>\n",
       "      <td>4414525648</td>\n",
       "      <td>138.0</td>\n",
       "    </tr>\n",
       "    <tr>\n",
       "      <th>3</th>\n",
       "      <td>4</td>\n",
       "      <td>2600536694</td>\n",
       "      <td>82.0</td>\n",
       "    </tr>\n",
       "    <tr>\n",
       "      <th>4</th>\n",
       "      <td>5</td>\n",
       "      <td>1506392601</td>\n",
       "      <td>52.0</td>\n",
       "    </tr>\n",
       "    <tr>\n",
       "      <th>5</th>\n",
       "      <td>6</td>\n",
       "      <td>810684177</td>\n",
       "      <td>34.0</td>\n",
       "    </tr>\n",
       "    <tr>\n",
       "      <th>6</th>\n",
       "      <td>7</td>\n",
       "      <td>336506182</td>\n",
       "      <td>10.0</td>\n",
       "    </tr>\n",
       "    <tr>\n",
       "      <th>7</th>\n",
       "      <td>8</td>\n",
       "      <td>185925033</td>\n",
       "      <td>8.0</td>\n",
       "    </tr>\n",
       "    <tr>\n",
       "      <th>8</th>\n",
       "      <td>9</td>\n",
       "      <td>88954868</td>\n",
       "      <td>0.0</td>\n",
       "    </tr>\n",
       "    <tr>\n",
       "      <th>9</th>\n",
       "      <td>10</td>\n",
       "      <td>46497393</td>\n",
       "      <td>4.0</td>\n",
       "    </tr>\n",
       "    <tr>\n",
       "      <th>10</th>\n",
       "      <td>11</td>\n",
       "      <td>48292741</td>\n",
       "      <td>3.0</td>\n",
       "    </tr>\n",
       "    <tr>\n",
       "      <th>11</th>\n",
       "      <td>12</td>\n",
       "      <td>43027350</td>\n",
       "      <td>1.0</td>\n",
       "    </tr>\n",
       "    <tr>\n",
       "      <th>12</th>\n",
       "      <td>13</td>\n",
       "      <td>24816739</td>\n",
       "      <td>0.0</td>\n",
       "    </tr>\n",
       "    <tr>\n",
       "      <th>13</th>\n",
       "      <td>14</td>\n",
       "      <td>11966437</td>\n",
       "      <td>0.0</td>\n",
       "    </tr>\n",
       "    <tr>\n",
       "      <th>14</th>\n",
       "      <td>15</td>\n",
       "      <td>681926</td>\n",
       "      <td>0.0</td>\n",
       "    </tr>\n",
       "    <tr>\n",
       "      <th>15</th>\n",
       "      <td>16</td>\n",
       "      <td>15240635</td>\n",
       "      <td>1.0</td>\n",
       "    </tr>\n",
       "    <tr>\n",
       "      <th>16</th>\n",
       "      <td>17</td>\n",
       "      <td>4939121</td>\n",
       "      <td>0.0</td>\n",
       "    </tr>\n",
       "    <tr>\n",
       "      <th>17</th>\n",
       "      <td>18</td>\n",
       "      <td>2356040</td>\n",
       "      <td>0.0</td>\n",
       "    </tr>\n",
       "    <tr>\n",
       "      <th>18</th>\n",
       "      <td>21</td>\n",
       "      <td>5865698</td>\n",
       "      <td>0.0</td>\n",
       "    </tr>\n",
       "    <tr>\n",
       "      <th>19</th>\n",
       "      <td>22</td>\n",
       "      <td>102876</td>\n",
       "      <td>1.0</td>\n",
       "    </tr>\n",
       "    <tr>\n",
       "      <th>20</th>\n",
       "      <td>23</td>\n",
       "      <td>157401</td>\n",
       "      <td>0.0</td>\n",
       "    </tr>\n",
       "    <tr>\n",
       "      <th>21</th>\n",
       "      <td>24</td>\n",
       "      <td>5337418</td>\n",
       "      <td>0.0</td>\n",
       "    </tr>\n",
       "    <tr>\n",
       "      <th>22</th>\n",
       "      <td>25</td>\n",
       "      <td>3871729</td>\n",
       "      <td>0.0</td>\n",
       "    </tr>\n",
       "    <tr>\n",
       "      <th>23</th>\n",
       "      <td>27</td>\n",
       "      <td>4715583</td>\n",
       "      <td>0.0</td>\n",
       "    </tr>\n",
       "    <tr>\n",
       "      <th>24</th>\n",
       "      <td>28</td>\n",
       "      <td>4075698</td>\n",
       "      <td>0.0</td>\n",
       "    </tr>\n",
       "    <tr>\n",
       "      <th>25</th>\n",
       "      <td>29</td>\n",
       "      <td>3276151</td>\n",
       "      <td>0.0</td>\n",
       "    </tr>\n",
       "    <tr>\n",
       "      <th>26</th>\n",
       "      <td>34</td>\n",
       "      <td>1428288</td>\n",
       "      <td>1.0</td>\n",
       "    </tr>\n",
       "    <tr>\n",
       "      <th>27</th>\n",
       "      <td>44</td>\n",
       "      <td>5928200</td>\n",
       "      <td>0.0</td>\n",
       "    </tr>\n",
       "  </tbody>\n",
       "</table>\n",
       "</div>"
      ],
      "text/plain": [
       "    num_idiomas  babel_user  numero_usuarios_bloqueados\n",
       "0             1  1876733204                        93.0\n",
       "1             2  5326625659                       182.0\n",
       "2             3  4414525648                       138.0\n",
       "3             4  2600536694                        82.0\n",
       "4             5  1506392601                        52.0\n",
       "5             6   810684177                        34.0\n",
       "6             7   336506182                        10.0\n",
       "7             8   185925033                         8.0\n",
       "8             9    88954868                         0.0\n",
       "9            10    46497393                         4.0\n",
       "10           11    48292741                         3.0\n",
       "11           12    43027350                         1.0\n",
       "12           13    24816739                         0.0\n",
       "13           14    11966437                         0.0\n",
       "14           15      681926                         0.0\n",
       "15           16    15240635                         1.0\n",
       "16           17     4939121                         0.0\n",
       "17           18     2356040                         0.0\n",
       "18           21     5865698                         0.0\n",
       "19           22      102876                         1.0\n",
       "20           23      157401                         0.0\n",
       "21           24     5337418                         0.0\n",
       "22           25     3871729                         0.0\n",
       "23           27     4715583                         0.0\n",
       "24           28     4075698                         0.0\n",
       "25           29     3276151                         0.0\n",
       "26           34     1428288                         1.0\n",
       "27           44     5928200                         0.0"
      ]
     },
     "execution_count": 58,
     "metadata": {},
     "output_type": "execute_result"
    }
   ],
   "source": [
    "resolucion"
   ]
  },
  {
   "cell_type": "code",
   "execution_count": null,
   "metadata": {},
   "outputs": [],
   "source": []
  }
 ],
 "metadata": {
  "kernelspec": {
   "display_name": "Python 3",
   "language": "python",
   "name": "python3"
  },
  "language_info": {
   "codemirror_mode": {
    "name": "ipython",
    "version": 3
   },
   "file_extension": ".py",
   "mimetype": "text/x-python",
   "name": "python",
   "nbconvert_exporter": "python",
   "pygments_lexer": "ipython3",
   "version": "3.6.9"
  }
 },
 "nbformat": 4,
 "nbformat_minor": 2
}
