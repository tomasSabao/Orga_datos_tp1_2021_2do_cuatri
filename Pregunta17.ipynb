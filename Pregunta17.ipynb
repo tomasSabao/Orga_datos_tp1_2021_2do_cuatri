{
 "cells": [
  {
   "cell_type": "markdown",
   "metadata": {},
   "source": [
    "## Pregunta 17: Utilice los textos del contenido para realizar consultas por texto utilizando las técnicas vistas en la clase de NLP (BOW o TF-IDF) de modo que la query \"retablo iglesia\" devuelva alguna página acerca del retablo de alguna iglesia"
   ]
  },
  {
   "cell_type": "markdown",
   "metadata": {},
   "source": [
    "Se va a usar TF-IDF. "
   ]
  },
  {
   "cell_type": "code",
   "execution_count": 1,
   "metadata": {},
   "outputs": [],
   "source": [
    "import pandas as pd\n",
    "import numpy as np"
   ]
  },
  {
   "cell_type": "markdown",
   "metadata": {},
   "source": [
    "Las siguientes celdas son solo para ver el número de elementos en el archivo"
   ]
  },
  {
   "cell_type": "code",
   "execution_count": null,
   "metadata": {},
   "outputs": [],
   "source": [
    "columnas=['id']\n",
    "un_df=pd.read_csv(\"contents_text_sample.csv\",usecols=columnas)\n",
    "un_df.shape"
   ]
  },
  {
   "cell_type": "markdown",
   "metadata": {},
   "source": [
    "El archivo de muestra de textos tiene 206607 registros. Dada la limitada capacidad de memoria de mi computadora, voy a ir procesando el archivo en partes"
   ]
  },
  {
   "cell_type": "code",
   "execution_count": 2,
   "metadata": {},
   "outputs": [],
   "source": [
    "columnas=['id','text']\n",
    "fragmento_df=pd.read_csv(\"contents_text_sample.csv\",usecols=columnas,nrows=50000)\n",
    "fragmento_df.dropna(inplace=True)\n",
    "fragmento_df['text']=fragmento_df['text'].astype(\"string\")\n",
    "fragmento_df['text']=fragmento_df['text'].str.lower()\n",
    "fragmento_df['contiene_retablo']=fragmento_df['text'].apply(lambda x: 1 if 'retablo' in x else 0)\n",
    "fragmento_df['contiene_iglesia']=fragmento_df['text'].apply(lambda x: 1 if 'iglesia' in x else 0)"
   ]
  },
  {
   "cell_type": "code",
   "execution_count": 3,
   "metadata": {},
   "outputs": [],
   "source": [
    "resolucion=fragmento_df.loc[( fragmento_df['contiene_retablo'] == 1 ) | (fragmento_df['contiene_iglesia']==1), :]"
   ]
  },
  {
   "cell_type": "code",
   "execution_count": 4,
   "metadata": {},
   "outputs": [],
   "source": [
    "fragmento_df=pd.read_csv(\"contents_text_sample.csv\", skiprows=50000,nrows=50000)\n",
    "nuevas_columnas=[\"id\",\"title\",\"text\"]\n",
    "fragmento_df.columns=nuevas_columnas\n",
    "fragmento_df.dropna(inplace=True)\n",
    "fragmento_df['text']=fragmento_df['text'].astype(\"string\")\n",
    "fragmento_df['text']=fragmento_df['text'].str.lower()\n",
    "fragmento_df['contiene_retablo']=fragmento_df['text'].apply(lambda x: 1 if 'retablo' in x else 0)\n",
    "fragmento_df['contiene_iglesia']=fragmento_df['text'].apply(lambda x: 1 if 'iglesia' in x else 0)"
   ]
  },
  {
   "cell_type": "code",
   "execution_count": 5,
   "metadata": {},
   "outputs": [],
   "source": [
    "aux_df=fragmento_df.loc[( fragmento_df['contiene_retablo'] == 1 ) | (fragmento_df['contiene_iglesia']==1), :]\n",
    "resolucion=pd.concat([resolucion,aux_df])"
   ]
  },
  {
   "cell_type": "code",
   "execution_count": 6,
   "metadata": {},
   "outputs": [],
   "source": [
    "fragmento_df=pd.read_csv(\"contents_text_sample.csv\", skiprows=100000,nrows=50000)\n",
    "nuevas_columnas=[\"id\",\"title\",\"text\"]\n",
    "fragmento_df.columns=nuevas_columnas\n",
    "fragmento_df.dropna(inplace=True)\n",
    "fragmento_df['text']=fragmento_df['text'].astype(\"string\")\n",
    "fragmento_df['text']=fragmento_df['text'].str.lower()\n",
    "fragmento_df['contiene_retablo']=fragmento_df['text'].apply(lambda x: 1 if 'retablo' in x else 0)\n",
    "fragmento_df['contiene_iglesia']=fragmento_df['text'].apply(lambda x: 1 if 'iglesia' in x else 0)"
   ]
  },
  {
   "cell_type": "code",
   "execution_count": 7,
   "metadata": {},
   "outputs": [],
   "source": [
    "aux_df=fragmento_df.loc[( fragmento_df['contiene_retablo'] == 1 ) | (fragmento_df['contiene_iglesia']==1), :]\n",
    "resolucion=pd.concat([resolucion,aux_df])"
   ]
  },
  {
   "cell_type": "code",
   "execution_count": 8,
   "metadata": {},
   "outputs": [],
   "source": [
    "fragmento_df=pd.read_csv(\"contents_text_sample.csv\", skiprows=150000,nrows=50000)\n",
    "nuevas_columnas=[\"id\",\"title\",\"text\"]\n",
    "fragmento_df.columns=nuevas_columnas\n",
    "fragmento_df.dropna(inplace=True)\n",
    "fragmento_df['text']=fragmento_df['text'].astype(\"string\")\n",
    "fragmento_df['text']=fragmento_df['text'].str.lower()\n",
    "fragmento_df['contiene_retablo']=fragmento_df['text'].apply(lambda x: 1 if 'retablo' in x else 0)\n",
    "fragmento_df['contiene_iglesia']=fragmento_df['text'].apply(lambda x: 1 if 'iglesia' in x else 0)"
   ]
  },
  {
   "cell_type": "code",
   "execution_count": 9,
   "metadata": {},
   "outputs": [],
   "source": [
    "aux_df=fragmento_df.loc[( fragmento_df['contiene_retablo'] == 1 ) | (fragmento_df['contiene_iglesia']==1), :]\n",
    "resolucion=pd.concat([resolucion,aux_df])"
   ]
  },
  {
   "cell_type": "code",
   "execution_count": 10,
   "metadata": {},
   "outputs": [],
   "source": [
    "fragmento_df=pd.read_csv(\"contents_text_sample.csv\", skiprows=200000)\n",
    "nuevas_columnas=[\"id\",\"title\",\"text\"]\n",
    "fragmento_df.columns=nuevas_columnas\n",
    "fragmento_df.dropna(inplace=True)\n",
    "fragmento_df['text']=fragmento_df['text'].astype(\"string\")\n",
    "fragmento_df['text']=fragmento_df['text'].str.lower()\n",
    "fragmento_df['contiene_retablo']=fragmento_df['text'].apply(lambda x: 1 if 'retablo' in x else 0)\n",
    "fragmento_df['contiene_iglesia']=fragmento_df['text'].apply(lambda x: 1 if 'iglesia' in x else 0)"
   ]
  },
  {
   "cell_type": "code",
   "execution_count": 11,
   "metadata": {},
   "outputs": [],
   "source": [
    "aux_df=fragmento_df.loc[( fragmento_df['contiene_retablo'] == 1 ) | (fragmento_df['contiene_iglesia']==1), :]\n",
    "resolucion=pd.concat([resolucion,aux_df])"
   ]
  },
  {
   "cell_type": "code",
   "execution_count": 12,
   "metadata": {},
   "outputs": [],
   "source": [
    "frecuencia_iglesia=resolucion.contiene_iglesia.sum()\n",
    "frecuencia_retablo=resolucion.contiene_retablo.sum()\n",
    "total_registros=resolucion.shape[0]\n",
    "idf_iglesia= np.log((total_registros +1)/frecuencia_iglesia)\n",
    "idf_retablo= np.log((total_registros +1)/frecuencia_retablo)"
   ]
  },
  {
   "cell_type": "markdown",
   "metadata": {},
   "source": [
    "No quiero que si un documento tiene muchas veces repetida la misma palabra tenga mayor relevancia que un registro que tiene ambas palabras de la query. Entonces lo que se va a hacer es usar TF=0 o 1 según si el texto posee o no la palabra. Nuevamente voy a procesar por partes"
   ]
  },
  {
   "cell_type": "code",
   "execution_count": 13,
   "metadata": {},
   "outputs": [],
   "source": [
    "resolucion['tf_idf']=resolucion['contiene_retablo']*idf_retablo + resolucion['contiene_iglesia']*idf_iglesia\n",
    "resolucion=resolucion.dropna()"
   ]
  },
  {
   "cell_type": "markdown",
   "metadata": {},
   "source": [
    "Los documentos que tengan un puntaje igual a idf_iglesia + idf_retablo son los que tienen ambas palabras. Entonces devuelvo esos"
   ]
  },
  {
   "cell_type": "code",
   "execution_count": 14,
   "metadata": {},
   "outputs": [],
   "source": [
    "puntaje_ambas_palabras = idf_iglesia + idf_retablo\n",
    "resolucion=resolucion.loc[resolucion['tf_idf']==puntaje_ambas_palabras,['id','text','title']]"
   ]
  },
  {
   "cell_type": "code",
   "execution_count": 17,
   "metadata": {},
   "outputs": [
    {
     "data": {
      "text/html": [
       "<div>\n",
       "<style scoped>\n",
       "    .dataframe tbody tr th:only-of-type {\n",
       "        vertical-align: middle;\n",
       "    }\n",
       "\n",
       "    .dataframe tbody tr th {\n",
       "        vertical-align: top;\n",
       "    }\n",
       "\n",
       "    .dataframe thead th {\n",
       "        text-align: right;\n",
       "    }\n",
       "</style>\n",
       "<table border=\"1\" class=\"dataframe\">\n",
       "  <thead>\n",
       "    <tr style=\"text-align: right;\">\n",
       "      <th></th>\n",
       "      <th>id</th>\n",
       "      <th>text</th>\n",
       "      <th>title</th>\n",
       "    </tr>\n",
       "  </thead>\n",
       "  <tbody>\n",
       "    <tr>\n",
       "      <th>336</th>\n",
       "      <td>2408803</td>\n",
       "      <td>{{ficha de fiesta|nombre=semana santa de úbeda...</td>\n",
       "      <td>Semana Santa en Úbeda</td>\n",
       "    </tr>\n",
       "    <tr>\n",
       "      <th>868</th>\n",
       "      <td>2432722</td>\n",
       "      <td>{{renombrar| historia de la seo del salvador e...</td>\n",
       "      <td>Historia de la Catedral del Salvador de Zaragoza</td>\n",
       "    </tr>\n",
       "    <tr>\n",
       "      <th>937</th>\n",
       "      <td>2436953</td>\n",
       "      <td>{{otros usos|catedral de santa maría la real d...</td>\n",
       "      <td>Iglesia de Santa María de la Almudena</td>\n",
       "    </tr>\n",
       "    <tr>\n",
       "      <th>1271</th>\n",
       "      <td>2453576</td>\n",
       "      <td>{{ficha de templo\n",
       "| nombre =iglesia del santo ...</td>\n",
       "      <td>Iglesia del Santo Cristo de la Salud (Málaga)</td>\n",
       "    </tr>\n",
       "    <tr>\n",
       "      <th>1476</th>\n",
       "      <td>2465583</td>\n",
       "      <td>[[archivo:noel-coypel-the-resurrection-of-chri...</td>\n",
       "      <td>Resurrección de Jesús</td>\n",
       "    </tr>\n",
       "    <tr>\n",
       "      <th>...</th>\n",
       "      <td>...</td>\n",
       "      <td>...</td>\n",
       "      <td>...</td>\n",
       "    </tr>\n",
       "    <tr>\n",
       "      <th>3708</th>\n",
       "      <td>9891750</td>\n",
       "      <td>{{ficha de artefacto arqueológico|título=plato...</td>\n",
       "      <td>Gran plato con las armas de Felipe III el Bueno</td>\n",
       "    </tr>\n",
       "    <tr>\n",
       "      <th>4953</th>\n",
       "      <td>9945940</td>\n",
       "      <td>{{ficha de templo\n",
       "| imagen = ermita_de_santiag...</td>\n",
       "      <td>Iglesia de Santiago (Murcia)</td>\n",
       "    </tr>\n",
       "    <tr>\n",
       "      <th>5545</th>\n",
       "      <td>9969315</td>\n",
       "      <td>{{ficha de templo\n",
       "| nombre = convento de san b...</td>\n",
       "      <td>Convento de San Basilio (Madrid)</td>\n",
       "    </tr>\n",
       "    <tr>\n",
       "      <th>5665</th>\n",
       "      <td>9973670</td>\n",
       "      <td>{{ficha de edificio religioso}}\n",
       "&lt;!-- inicio de...</td>\n",
       "      <td>Iglesia parroquial de Aincioa</td>\n",
       "    </tr>\n",
       "    <tr>\n",
       "      <th>6028</th>\n",
       "      <td>9988022</td>\n",
       "      <td>{{ficha de templo\n",
       "| nombre = iglesia de santa...</td>\n",
       "      <td>Iglesia de Santa Eulalia de Terán</td>\n",
       "    </tr>\n",
       "  </tbody>\n",
       "</table>\n",
       "<p>194 rows × 3 columns</p>\n",
       "</div>"
      ],
      "text/plain": [
       "           id                                               text  \\\n",
       "336   2408803  {{ficha de fiesta|nombre=semana santa de úbeda...   \n",
       "868   2432722  {{renombrar| historia de la seo del salvador e...   \n",
       "937   2436953  {{otros usos|catedral de santa maría la real d...   \n",
       "1271  2453576  {{ficha de templo\n",
       "| nombre =iglesia del santo ...   \n",
       "1476  2465583  [[archivo:noel-coypel-the-resurrection-of-chri...   \n",
       "...       ...                                                ...   \n",
       "3708  9891750  {{ficha de artefacto arqueológico|título=plato...   \n",
       "4953  9945940  {{ficha de templo\n",
       "| imagen = ermita_de_santiag...   \n",
       "5545  9969315  {{ficha de templo\n",
       "| nombre = convento de san b...   \n",
       "5665  9973670  {{ficha de edificio religioso}}\n",
       "<!-- inicio de...   \n",
       "6028  9988022  \n",
       "{{ficha de templo\n",
       "| nombre = iglesia de santa...   \n",
       "\n",
       "                                                 title  \n",
       "336                              Semana Santa en Úbeda  \n",
       "868   Historia de la Catedral del Salvador de Zaragoza  \n",
       "937              Iglesia de Santa María de la Almudena  \n",
       "1271     Iglesia del Santo Cristo de la Salud (Málaga)  \n",
       "1476                             Resurrección de Jesús  \n",
       "...                                                ...  \n",
       "3708   Gran plato con las armas de Felipe III el Bueno  \n",
       "4953                      Iglesia de Santiago (Murcia)  \n",
       "5545                  Convento de San Basilio (Madrid)  \n",
       "5665                     Iglesia parroquial de Aincioa  \n",
       "6028                 Iglesia de Santa Eulalia de Terán  \n",
       "\n",
       "[194 rows x 3 columns]"
      ]
     },
     "execution_count": 17,
     "metadata": {},
     "output_type": "execute_result"
    }
   ],
   "source": [
    "resolucion"
   ]
  },
  {
   "cell_type": "code",
   "execution_count": null,
   "metadata": {},
   "outputs": [],
   "source": []
  }
 ],
 "metadata": {
  "kernelspec": {
   "display_name": "Python 3",
   "language": "python",
   "name": "python3"
  },
  "language_info": {
   "codemirror_mode": {
    "name": "ipython",
    "version": 3
   },
   "file_extension": ".py",
   "mimetype": "text/x-python",
   "name": "python",
   "nbconvert_exporter": "python",
   "pygments_lexer": "ipython3",
   "version": "3.6.9"
  }
 },
 "nbformat": 4,
 "nbformat_minor": 2
}
