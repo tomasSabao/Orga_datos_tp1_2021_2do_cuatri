{
 "cells": [
  {
   "cell_type": "code",
   "execution_count": 2,
   "metadata": {},
   "outputs": [],
   "source": [
    "import pandas as pd\n",
    "import numpy as np\n",
    "import seaborn as sns"
   ]
  },
  {
   "cell_type": "markdown",
   "metadata": {},
   "source": [
    "\n",
    "### Pregunta 58: Observe una muestra aleatoria de los comentarios de las acciones realizadas por usuario o ips antes de ser bloqueados. Observe otra muestra de comentarios de acciones de todos"
   ]
  },
  {
   "cell_type": "markdown",
   "metadata": {},
   "source": [
    "Logs csv tiene 12188946. Por la limitada memoria de mi computadora, voy a procesarlo por fragmentos al csv"
   ]
  },
  {
   "cell_type": "markdown",
   "metadata": {},
   "source": [
    "La clave esta en que me piden antes de ser bloqueados. Y ademas lo que se me pide es la accion antes del primer bloqueo. Entonces lo que hago es : consigo primer bloqueo. Reviso el log matcheando con los elementos que no sean bloqueos y me fijo cual es el log que tiene la menor distancia con la accion de primer bloqueo\n"
   ]
  },
  {
   "cell_type": "code",
   "execution_count": null,
   "metadata": {},
   "outputs": [],
   "source": [
    "columnas=['timestamp','action','title']\n",
    "bloqueo_usuarios_mas_temprano=pd.read_csv(\"logs.csv\",usecols=columnas)\n",
    "bloqueo_usuarios_mas_temprano.dropna(inplace=True)\n",
    "bloqueo_usuarios_mas_temprano=bloqueo_usuarios_mas_temprano.loc[bloqueo_usuarios_mas_temprano['action']=='block',['timestamp','title']]\n",
    "bloqueo_usuarios_mas_temprano['Usuario_bloqueado']=bloqueo_usuarios_mas_temprano['title'].str.replace(\"Usuario:\",'')\n",
    "bloqueo_usuarios_mas_temprano=bloqueo_usuarios_mas_temprano.loc[:,['timestamp','Usuario_bloqueado']]\n",
    "bloqueo_usuarios_mas_temprano['Usuario_bloqueado']=bloqueo_usuarios_mas_temprano['Usuario_bloqueado'].astype(\"string\")\n",
    "bloqueo_usuarios_mas_temprano=bloqueo_usuarios_mas_temprano.groupby('Usuario_bloqueado').agg('min').reset_index()"
   ]
  },
  {
   "cell_type": "markdown",
   "metadata": {},
   "source": [
    "#### Limpieza de datos\n",
    "Tengo un archivo muy grande para tenerlo todo en memoria. Sabiendo que entre los valores de los usuarios bloqueados tenemos una mezcla de usernames, ids y direcciones ip, se va a procesar los logs para cada uno de estos valores."
   ]
  },
  {
   "cell_type": "markdown",
   "metadata": {},
   "source": [
    "##### Direcciones ip"
   ]
  },
  {
   "cell_type": "code",
   "execution_count": 4,
   "metadata": {},
   "outputs": [
    {
     "name": "stderr",
     "output_type": "stream",
     "text": [
      "/home/tomas/.local/lib/python3.6/site-packages/IPython/core/interactiveshell.py:3063: DtypeWarning: Columns (4) have mixed types.Specify dtype option on import or set low_memory=False.\n",
      "  interactivity=interactivity, compiler=compiler, result=result)\n"
     ]
    }
   ],
   "source": [
    "columnas=['timestamp','contributor_ip','action']\n",
    "aux_df=pd.read_csv(\"logs.csv\",usecols=columnas)"
   ]
  },
  {
   "cell_type": "markdown",
   "metadata": {},
   "source": [
    "Me quedo con las acciones no bloqueantes"
   ]
  },
  {
   "cell_type": "code",
   "execution_count": 5,
   "metadata": {},
   "outputs": [],
   "source": [
    "aux_df=aux_df.loc[aux_df['action']!='block',['timestamp','contributor_ip']]"
   ]
  },
  {
   "cell_type": "markdown",
   "metadata": {},
   "source": [
    "Saco aquellos registros que no tengan uno timestamp o ip"
   ]
  },
  {
   "cell_type": "code",
   "execution_count": 6,
   "metadata": {},
   "outputs": [],
   "source": [
    "aux_df.dropna(inplace=True)"
   ]
  },
  {
   "cell_type": "code",
   "execution_count": 10,
   "metadata": {},
   "outputs": [],
   "source": [
    "ip_logs=aux_df"
   ]
  },
  {
   "cell_type": "markdown",
   "metadata": {},
   "source": [
    "De aca en adelante, el df que tenga los datos timestamp,ip se va a llamar ip_logs"
   ]
  },
  {
   "cell_type": "markdown",
   "metadata": {},
   "source": [
    "El df se va a guardar en el archivo csv \"ip_fecha_logs.csv\""
   ]
  },
  {
   "cell_type": "code",
   "execution_count": 11,
   "metadata": {},
   "outputs": [],
   "source": [
    "ip_logs.to_csv(\"ip_fecha_logs.csv\")"
   ]
  },
  {
   "cell_type": "markdown",
   "metadata": {},
   "source": [
    "#### User IDs"
   ]
  },
  {
   "cell_type": "code",
   "execution_count": 2,
   "metadata": {},
   "outputs": [],
   "source": [
    "columnas=['timestamp','contributor_id','action']\n",
    "aux_df=pd.read_csv(\"logs.csv\",usecols=columnas)"
   ]
  },
  {
   "cell_type": "code",
   "execution_count": 3,
   "metadata": {},
   "outputs": [],
   "source": [
    "aux_df=aux_df.loc[aux_df['action']!='block',['timestamp','contributor_id']]"
   ]
  },
  {
   "cell_type": "code",
   "execution_count": 4,
   "metadata": {},
   "outputs": [],
   "source": [
    "aux_df.dropna(inplace=True)"
   ]
  },
  {
   "cell_type": "code",
   "execution_count": 7,
   "metadata": {},
   "outputs": [],
   "source": [
    "id_logs=aux_df"
   ]
  },
  {
   "cell_type": "markdown",
   "metadata": {},
   "source": [
    "De aca en adelante, el dataframe que tenga timestamp, id del usuario que hizo la accion estara en el dataframe id_logs"
   ]
  },
  {
   "cell_type": "code",
   "execution_count": 8,
   "metadata": {},
   "outputs": [],
   "source": [
    "id_logs.to_csv(\"id_fecha_logs.csv\")"
   ]
  },
  {
   "cell_type": "markdown",
   "metadata": {},
   "source": [
    "#### UserNames"
   ]
  },
  {
   "cell_type": "code",
   "execution_count": 3,
   "metadata": {},
   "outputs": [],
   "source": [
    "columnas=['timestamp','contributor_username','action']\n",
    "aux_df=pd.read_csv(\"logs.csv\",usecols=columnas)"
   ]
  },
  {
   "cell_type": "code",
   "execution_count": 4,
   "metadata": {},
   "outputs": [],
   "source": [
    "aux_df=aux_df.loc[aux_df['action']!='block',['timestamp','contributor_username']]"
   ]
  },
  {
   "cell_type": "code",
   "execution_count": 5,
   "metadata": {},
   "outputs": [],
   "source": [
    "aux_df=aux_df.dropna()"
   ]
  },
  {
   "cell_type": "code",
   "execution_count": 7,
   "metadata": {},
   "outputs": [],
   "source": [
    "username_df=aux_df"
   ]
  },
  {
   "cell_type": "markdown",
   "metadata": {},
   "source": [
    "De aca en adelante, el dataframe que tenga timestamp, username estara en el dataframe username_df"
   ]
  },
  {
   "cell_type": "code",
   "execution_count": 8,
   "metadata": {},
   "outputs": [],
   "source": [
    "username_df.to_csv(\"username_fecha_logs.csv\")"
   ]
  },
  {
   "cell_type": "code",
   "execution_count": 16,
   "metadata": {},
   "outputs": [
    {
     "data": {
      "text/plain": [
       "Index(['timestamp', 'contributor_username'], dtype='object')"
      ]
     },
     "execution_count": 16,
     "metadata": {},
     "output_type": "execute_result"
    }
   ],
   "source": [
    "username_df.columns"
   ]
  },
  {
   "cell_type": "markdown",
   "metadata": {},
   "source": [
    "#### Procesamiento de los datos \n",
    "La consigna pide encontrar los comentarios para la ultima accion que hizo un usuario antes de que lo bloquearan. Tengo los logs del identificador del usuario y del timestamp de la accion. Al mismo tiempo tengo el identificador del usuario bloqueado y el timestamp de su primer bloqueo. Entonces lo que se va a hacer es unir estos dos dataframes con un inner join, calcular la diferencia de tiempo entre las acciones en el log y la accion de bloqueo para cada usuario bloqueado, y quedarme con el más chico. Una vez que tengo eso, sumo la diferencia de tiempo al momento del bloqueo y ya tengo la accion pedida"
   ]
  },
  {
   "cell_type": "markdown",
   "metadata": {},
   "source": [
    "###### Procesamiento: Username"
   ]
  },
  {
   "cell_type": "code",
   "execution_count": 13,
   "metadata": {},
   "outputs": [],
   "source": [
    "columnas=['Usuario_bloqueado','timestamp']\n",
    "bloqueo_usuario_mas_temprano=pd.read_csv(\"fecha_usuario_bloqueado.csv\",usecols=columnas)"
   ]
  },
  {
   "cell_type": "code",
   "execution_count": 18,
   "metadata": {},
   "outputs": [],
   "source": [
    "bloqueo_usuario_mas_temprano=bloqueo_usuario_mas_temprano.rename(columns={'Usuario_bloqueado':'contributor_username','timestamp':'timestamp_bloqueo'})"
   ]
  },
  {
   "cell_type": "code",
   "execution_count": 19,
   "metadata": {},
   "outputs": [],
   "source": [
    "username_df=username_df.merge(bloqueo_usuario_mas_temprano,on='contributor_username')"
   ]
  },
  {
   "cell_type": "code",
   "execution_count": 22,
   "metadata": {},
   "outputs": [],
   "source": [
    "username_df['timestamp']=pd.to_datetime(username_df.timestamp).dt.tz_convert(None)"
   ]
  },
  {
   "cell_type": "code",
   "execution_count": 24,
   "metadata": {},
   "outputs": [],
   "source": [
    "username_df['timestamp_bloqueo']=pd.to_datetime(username_df.timestamp_bloqueo).dt.tz_convert(None)"
   ]
  },
  {
   "cell_type": "code",
   "execution_count": 25,
   "metadata": {},
   "outputs": [],
   "source": [
    "username_df['time_diff']=username_df['timestamp']-username_df['timestamp_bloqueo']"
   ]
  },
  {
   "cell_type": "code",
   "execution_count": 27,
   "metadata": {},
   "outputs": [],
   "source": [
    "username_df['time_diff']=username_df['time_diff'].astype('timedelta64[m]')"
   ]
  },
  {
   "cell_type": "code",
   "execution_count": 31,
   "metadata": {},
   "outputs": [],
   "source": [
    "username_df=username_df.loc[username_df['time_diff']<0,['contributor_username','time_diff']]"
   ]
  },
  {
   "cell_type": "code",
   "execution_count": 34,
   "metadata": {},
   "outputs": [],
   "source": [
    "username_df=username_df.groupby('contributor_username').agg('max').reset_index()"
   ]
  },
  {
   "cell_type": "markdown",
   "metadata": {},
   "source": [
    "El resultado se va a guardar en el archivo csv \"username_time_diff_mas_cercano.csv\""
   ]
  },
  {
   "cell_type": "code",
   "execution_count": 35,
   "metadata": {},
   "outputs": [],
   "source": [
    "#mando el archivo que tiene la diferencia en minutos mas cercana a un csv para que no explote todo\n",
    "username_df.to_csv(\"username_time_diff_mas_cercano.csv\")"
   ]
  },
  {
   "cell_type": "markdown",
   "metadata": {},
   "source": [
    "##### Procesamiento: ID"
   ]
  },
  {
   "cell_type": "code",
   "execution_count": 10,
   "metadata": {},
   "outputs": [],
   "source": [
    "columnas=['Usuario_bloqueado','timestamp']\n",
    "bloqueo_usuario_mas_temprano=pd.read_csv(\"fecha_usuario_bloqueado.csv\",usecols=columnas)"
   ]
  },
  {
   "cell_type": "code",
   "execution_count": 11,
   "metadata": {},
   "outputs": [],
   "source": [
    "bloqueo_usuario_mas_temprano=bloqueo_usuario_mas_temprano.rename(columns={'Usuario_bloqueado':'contributor_id','timestamp':'timestamp_bloqueo'})"
   ]
  },
  {
   "cell_type": "code",
   "execution_count": 6,
   "metadata": {},
   "outputs": [],
   "source": [
    "columnas=['timestamp','contributor_id']\n",
    "id_logs=pd.read_csv(\"id_fecha_logs.csv\",usecols=columnas)"
   ]
  },
  {
   "cell_type": "code",
   "execution_count": 16,
   "metadata": {},
   "outputs": [],
   "source": [
    "bloqueo_usuario_mas_temprano['contributor_id']=bloqueo_usuario_mas_temprano['contributor_id'].astype(\"string\")"
   ]
  },
  {
   "cell_type": "code",
   "execution_count": 17,
   "metadata": {},
   "outputs": [],
   "source": [
    "id_logs['contributor_id']=id_logs['contributor_id'].astype(\"string\")"
   ]
  },
  {
   "cell_type": "code",
   "execution_count": 18,
   "metadata": {},
   "outputs": [],
   "source": [
    "id_logs=id_logs.merge(bloqueo_usuario_mas_temprano, on='contributor_id')"
   ]
  },
  {
   "cell_type": "code",
   "execution_count": 19,
   "metadata": {},
   "outputs": [
    {
     "data": {
      "text/plain": [
       "(0, 3)"
      ]
     },
     "execution_count": 19,
     "metadata": {},
     "output_type": "execute_result"
    }
   ],
   "source": [
    "id_logs.shape"
   ]
  },
  {
   "cell_type": "markdown",
   "metadata": {},
   "source": [
    "No hay ningun usuario que haya sido identificado por su ID entre los usuarios bloqueados"
   ]
  },
  {
   "cell_type": "markdown",
   "metadata": {},
   "source": [
    "##### Procesamiento: User IP"
   ]
  },
  {
   "cell_type": "code",
   "execution_count": 20,
   "metadata": {},
   "outputs": [],
   "source": [
    "columnas=['Usuario_bloqueado','timestamp']\n",
    "bloqueo_usuario_mas_temprano=pd.read_csv(\"fecha_usuario_bloqueado.csv\",usecols=columnas)"
   ]
  },
  {
   "cell_type": "code",
   "execution_count": 23,
   "metadata": {},
   "outputs": [],
   "source": [
    "columnas=['timestamp','contributor_ip']\n",
    "ip_logs=pd.read_csv(\"ip_fecha_logs.csv\",usecols=columnas)"
   ]
  },
  {
   "cell_type": "code",
   "execution_count": 25,
   "metadata": {},
   "outputs": [],
   "source": [
    "bloqueo_usuario_mas_temprano=bloqueo_usuario_mas_temprano.rename(columns={'Usuario_bloqueado':'contributor_ip','timestamp':'timestamp_bloqueo'})"
   ]
  },
  {
   "cell_type": "code",
   "execution_count": 27,
   "metadata": {},
   "outputs": [],
   "source": [
    "bloqueo_usuario_mas_temprano['contributor_ip']=bloqueo_usuario_mas_temprano['contributor_ip'].astype(\"string\")"
   ]
  },
  {
   "cell_type": "code",
   "execution_count": 28,
   "metadata": {},
   "outputs": [],
   "source": [
    "ip_logs['contributor_ip']=ip_logs['contributor_ip'].astype(\"string\")"
   ]
  },
  {
   "cell_type": "code",
   "execution_count": 30,
   "metadata": {},
   "outputs": [],
   "source": [
    "ip_logs=ip_logs.merge(bloqueo_usuario_mas_temprano,on='contributor_ip')"
   ]
  },
  {
   "cell_type": "code",
   "execution_count": 33,
   "metadata": {},
   "outputs": [],
   "source": [
    "ip_logs['timestamp']=pd.to_datetime(ip_logs.timestamp).dt.tz_convert(None)"
   ]
  },
  {
   "cell_type": "code",
   "execution_count": 34,
   "metadata": {},
   "outputs": [],
   "source": [
    "ip_logs['timestamp_bloqueo']=pd.to_datetime(ip_logs.timestamp_bloqueo).dt.tz_convert(None)"
   ]
  },
  {
   "cell_type": "code",
   "execution_count": 36,
   "metadata": {},
   "outputs": [],
   "source": [
    "ip_logs['time_diff']=ip_logs['timestamp']-ip_logs['timestamp_bloqueo']"
   ]
  },
  {
   "cell_type": "code",
   "execution_count": 37,
   "metadata": {},
   "outputs": [],
   "source": [
    "ip_logs['time_diff']=ip_logs['time_diff'].astype('timedelta64[m]')"
   ]
  },
  {
   "cell_type": "code",
   "execution_count": 39,
   "metadata": {},
   "outputs": [],
   "source": [
    "ip_logs=ip_logs.loc[ip_logs['time_diff']<0,['contributor_ip','time_diff']]"
   ]
  },
  {
   "cell_type": "code",
   "execution_count": 40,
   "metadata": {},
   "outputs": [],
   "source": [
    "ip_logs=ip_logs.groupby('contributor_ip').agg('max').reset_index()"
   ]
  },
  {
   "cell_type": "code",
   "execution_count": 42,
   "metadata": {},
   "outputs": [],
   "source": [
    "ip_logs.to_csv(\"userip_time_diff_mas_cercano.csv\")"
   ]
  },
  {
   "cell_type": "markdown",
   "metadata": {},
   "source": [
    "Ahora se tienen los usuarios bloqueados y su diferencia de tiempo. Se une con el archivo que tiene el primer bloqueo, se obtiene la fecha para cada usuario y se extrae el comentario pedido"
   ]
  },
  {
   "cell_type": "code",
   "execution_count": 24,
   "metadata": {},
   "outputs": [],
   "source": [
    "columnas=['contributor_username','time_diff']\n",
    "username_time_diff=pd.read_csv(\"username_time_diff_mas_cercano.csv\",usecols=columnas)"
   ]
  },
  {
   "cell_type": "code",
   "execution_count": 25,
   "metadata": {},
   "outputs": [],
   "source": [
    "columnas=['contributor_ip','time_diff']\n",
    "ip_time_diff=pd.read_csv(\"userip_time_diff_mas_cercano.csv\",usecols=columnas)"
   ]
  },
  {
   "cell_type": "code",
   "execution_count": 26,
   "metadata": {},
   "outputs": [],
   "source": [
    "username_time_diff=username_time_diff.rename(columns={'contributor_username':'Usuario_bloqueado'})\n",
    "ip_time_diff=ip_time_diff.rename(columns={'contributor_ip':'Usuario_bloqueado'})"
   ]
  },
  {
   "cell_type": "code",
   "execution_count": 27,
   "metadata": {},
   "outputs": [],
   "source": [
    "blocked_user_time_diff=pd.concat([username_time_diff,ip_time_diff])"
   ]
  },
  {
   "cell_type": "code",
   "execution_count": 28,
   "metadata": {},
   "outputs": [
    {
     "data": {
      "text/html": [
       "<div>\n",
       "<style scoped>\n",
       "    .dataframe tbody tr th:only-of-type {\n",
       "        vertical-align: middle;\n",
       "    }\n",
       "\n",
       "    .dataframe tbody tr th {\n",
       "        vertical-align: top;\n",
       "    }\n",
       "\n",
       "    .dataframe thead th {\n",
       "        text-align: right;\n",
       "    }\n",
       "</style>\n",
       "<table border=\"1\" class=\"dataframe\">\n",
       "  <thead>\n",
       "    <tr style=\"text-align: right;\">\n",
       "      <th></th>\n",
       "      <th>Usuario_bloqueado</th>\n",
       "      <th>time_diff</th>\n",
       "    </tr>\n",
       "  </thead>\n",
       "  <tbody>\n",
       "    <tr>\n",
       "      <th>0</th>\n",
       "      <td>! ! ! ! ! ! ! ! ! ! ! ! ! ! HAGGEⓇ? 123</td>\n",
       "      <td>-5.0</td>\n",
       "    </tr>\n",
       "    <tr>\n",
       "      <th>1</th>\n",
       "      <td>!! !!ПОМОГИТЕ СЕСТРЕ НА ОПЕРАЦИЮ!! !!</td>\n",
       "      <td>-62.0</td>\n",
       "    </tr>\n",
       "    <tr>\n",
       "      <th>2</th>\n",
       "      <td>!\"·$%&amp;</td>\n",
       "      <td>-1771436.0</td>\n",
       "    </tr>\n",
       "    <tr>\n",
       "      <th>3</th>\n",
       "      <td>!23455666A!wee</td>\n",
       "      <td>-1532142.0</td>\n",
       "    </tr>\n",
       "    <tr>\n",
       "      <th>4</th>\n",
       "      <td>!2o%Uv6PHBj6JfgYmfgqVx!SCEBEP4</td>\n",
       "      <td>-5944.0</td>\n",
       "    </tr>\n",
       "    <tr>\n",
       "      <th>...</th>\n",
       "      <td>...</td>\n",
       "      <td>...</td>\n",
       "    </tr>\n",
       "    <tr>\n",
       "      <th>4854</th>\n",
       "      <td>99.106.76.104</td>\n",
       "      <td>-31.0</td>\n",
       "    </tr>\n",
       "    <tr>\n",
       "      <th>4855</th>\n",
       "      <td>99.190.136.211</td>\n",
       "      <td>-4.0</td>\n",
       "    </tr>\n",
       "    <tr>\n",
       "      <th>4856</th>\n",
       "      <td>99.203.143.116</td>\n",
       "      <td>-526.0</td>\n",
       "    </tr>\n",
       "    <tr>\n",
       "      <th>4857</th>\n",
       "      <td>99.203.28.110</td>\n",
       "      <td>-646.0</td>\n",
       "    </tr>\n",
       "    <tr>\n",
       "      <th>4858</th>\n",
       "      <td>99.7.26.63</td>\n",
       "      <td>-131.0</td>\n",
       "    </tr>\n",
       "  </tbody>\n",
       "</table>\n",
       "<p>100241 rows × 2 columns</p>\n",
       "</div>"
      ],
      "text/plain": [
       "                            Usuario_bloqueado  time_diff\n",
       "0     ! ! ! ! ! ! ! ! ! ! ! ! ! ! HAGGEⓇ? 123       -5.0\n",
       "1       !! !!ПОМОГИТЕ СЕСТРЕ НА ОПЕРАЦИЮ!! !!      -62.0\n",
       "2                                      !\"·$%& -1771436.0\n",
       "3                              !23455666A!wee -1532142.0\n",
       "4              !2o%Uv6PHBj6JfgYmfgqVx!SCEBEP4    -5944.0\n",
       "...                                       ...        ...\n",
       "4854                            99.106.76.104      -31.0\n",
       "4855                           99.190.136.211       -4.0\n",
       "4856                           99.203.143.116     -526.0\n",
       "4857                            99.203.28.110     -646.0\n",
       "4858                               99.7.26.63     -131.0\n",
       "\n",
       "[100241 rows x 2 columns]"
      ]
     },
     "execution_count": 28,
     "metadata": {},
     "output_type": "execute_result"
    }
   ],
   "source": [
    "blocked_user_time_diff"
   ]
  },
  {
   "cell_type": "code",
   "execution_count": 29,
   "metadata": {},
   "outputs": [],
   "source": [
    "columnas=['Usuario_bloqueado','timestamp']\n",
    "primer_bloqueo_usuario=pd.read_csv(\"fecha_usuario_bloqueado.csv\",usecols=columnas)"
   ]
  },
  {
   "cell_type": "code",
   "execution_count": 30,
   "metadata": {},
   "outputs": [],
   "source": [
    "accion_anterior_bloqueo=primer_bloqueo_usuario.merge(blocked_user_time_diff,on='Usuario_bloqueado')"
   ]
  },
  {
   "cell_type": "code",
   "execution_count": 31,
   "metadata": {},
   "outputs": [],
   "source": [
    "accion_anterior_bloqueo['timestamp']=pd.to_datetime(accion_anterior_bloqueo.timestamp).dt.tz_convert(None)"
   ]
  },
  {
   "cell_type": "code",
   "execution_count": 32,
   "metadata": {},
   "outputs": [],
   "source": [
    "accion_anterior_bloqueo['time_diff']=accion_anterior_bloqueo['time_diff'].astype('timedelta64[m]')"
   ]
  },
  {
   "cell_type": "code",
   "execution_count": 33,
   "metadata": {},
   "outputs": [],
   "source": [
    "accion_anterior_bloqueo['timestamp_accion_anterior']=accion_anterior_bloqueo['timestamp']+accion_anterior_bloqueo['time_diff']"
   ]
  },
  {
   "cell_type": "code",
   "execution_count": 34,
   "metadata": {},
   "outputs": [],
   "source": [
    "accion_anterior_bloqueo=accion_anterior_bloqueo.loc[:,['Usuario_bloqueado','timestamp_accion_anterior']]"
   ]
  },
  {
   "cell_type": "markdown",
   "metadata": {},
   "source": [
    "Se tiene el timestamp de la accion anterior, se guarda en un csv"
   ]
  },
  {
   "cell_type": "code",
   "execution_count": 35,
   "metadata": {},
   "outputs": [],
   "source": [
    "accion_anterior_bloqueo.to_csv(\"accion_anterior_bloqueo.csv\")"
   ]
  },
  {
   "cell_type": "markdown",
   "metadata": {},
   "source": [
    "##### Resolucion\n",
    "Se tiene el timestamp de la ultima accion y el usuario. Falta encontrar los comentarios"
   ]
  },
  {
   "cell_type": "markdown",
   "metadata": {},
   "source": [
    "###### Resolucion-username"
   ]
  },
  {
   "cell_type": "code",
   "execution_count": 33,
   "metadata": {},
   "outputs": [],
   "source": [
    "columnas_username=['timestamp','contributor_username','comment']"
   ]
  },
  {
   "cell_type": "code",
   "execution_count": 34,
   "metadata": {},
   "outputs": [],
   "source": [
    "username_logs=pd.read_csv(\"logs.csv\",usecols=columnas_username)"
   ]
  },
  {
   "cell_type": "code",
   "execution_count": 35,
   "metadata": {},
   "outputs": [],
   "source": [
    "username_logs.dropna(inplace=True)"
   ]
  },
  {
   "cell_type": "code",
   "execution_count": 52,
   "metadata": {},
   "outputs": [],
   "source": [
    "username_logs=username_logs.rename(columns={'contributor_username':'Usuario_bloqueado'})"
   ]
  },
  {
   "cell_type": "code",
   "execution_count": null,
   "metadata": {},
   "outputs": [],
   "source": [
    "username_logs['timestamp']=pd.to_datetime(username_logs.timestamp).dt.tz_convert(None)"
   ]
  },
  {
   "cell_type": "code",
   "execution_count": 56,
   "metadata": {},
   "outputs": [],
   "source": [
    "accion_anterior_bloqueo=accion_anterior_bloqueo.rename(columns={'timestamp_accion_anterior':'timestamp'})"
   ]
  },
  {
   "cell_type": "code",
   "execution_count": 57,
   "metadata": {},
   "outputs": [
    {
     "data": {
      "text/plain": [
       "Usuario_bloqueado            object\n",
       "timestamp            datetime64[ns]\n",
       "dtype: object"
      ]
     },
     "execution_count": 57,
     "metadata": {},
     "output_type": "execute_result"
    }
   ],
   "source": [
    "accion_anterior_bloqueo.dtypes"
   ]
  },
  {
   "cell_type": "code",
   "execution_count": 58,
   "metadata": {},
   "outputs": [],
   "source": [
    "resolucion_username=username_logs.merge(accion_anterior_bloqueo, on=['Usuario_bloqueado','timestamp'])"
   ]
  },
  {
   "cell_type": "code",
   "execution_count": 60,
   "metadata": {},
   "outputs": [],
   "source": [
    "resolucion_username.to_csv(\"resolucion_username.csv\")"
   ]
  },
  {
   "cell_type": "markdown",
   "metadata": {},
   "source": [
    "###### Resolucion-ip"
   ]
  },
  {
   "cell_type": "code",
   "execution_count": 36,
   "metadata": {},
   "outputs": [
    {
     "data": {
      "text/plain": [
       "(100241, 2)"
      ]
     },
     "execution_count": 36,
     "metadata": {},
     "output_type": "execute_result"
    }
   ],
   "source": [
    "accion_anterior_bloqueo.shape"
   ]
  },
  {
   "cell_type": "code",
   "execution_count": 44,
   "metadata": {},
   "outputs": [],
   "source": [
    "accion_anterior_bloqueo=accion_anterior_bloqueo.rename(columns={'timestamp_accion_anterior':'timestamp'})"
   ]
  },
  {
   "cell_type": "code",
   "execution_count": 37,
   "metadata": {},
   "outputs": [],
   "source": [
    "columnas_ip=['timestamp','contributor_ip','comment']"
   ]
  },
  {
   "cell_type": "code",
   "execution_count": 38,
   "metadata": {},
   "outputs": [
    {
     "name": "stderr",
     "output_type": "stream",
     "text": [
      "/home/tomas/.local/lib/python3.6/site-packages/IPython/core/interactiveshell.py:3063: DtypeWarning: Columns (4) have mixed types.Specify dtype option on import or set low_memory=False.\n",
      "  interactivity=interactivity, compiler=compiler, result=result)\n"
     ]
    }
   ],
   "source": [
    "ip_logs=pd.read_csv(\"logs.csv\",usecols=columnas_ip)"
   ]
  },
  {
   "cell_type": "code",
   "execution_count": 39,
   "metadata": {},
   "outputs": [],
   "source": [
    "ip_logs.dropna(inplace=True)"
   ]
  },
  {
   "cell_type": "code",
   "execution_count": 40,
   "metadata": {},
   "outputs": [],
   "source": [
    "ip_logs=ip_logs.rename(columns={'contributor_ip':'Usuario_bloqueado'})"
   ]
  },
  {
   "cell_type": "code",
   "execution_count": 42,
   "metadata": {},
   "outputs": [],
   "source": [
    "ip_logs['timestamp']=pd.to_datetime(ip_logs.timestamp).dt.tz_convert(None)"
   ]
  },
  {
   "cell_type": "code",
   "execution_count": 45,
   "metadata": {},
   "outputs": [],
   "source": [
    "resolucion_ip=ip_logs.merge(accion_anterior_bloqueo, on=['Usuario_bloqueado','timestamp'])"
   ]
  },
  {
   "cell_type": "code",
   "execution_count": 47,
   "metadata": {},
   "outputs": [],
   "source": [
    "resolucion_ip.to_csv(\"resolucion_ip.csv\")"
   ]
  },
  {
   "cell_type": "markdown",
   "metadata": {},
   "source": [
    "### Resultados\n",
    "Mostramos las muestras aleatorias pedidas"
   ]
  },
  {
   "cell_type": "code",
   "execution_count": 53,
   "metadata": {},
   "outputs": [],
   "source": [
    "columnas=['timestamp','Usuario_bloqueado','comment']\n",
    "resolucion_username=pd.read_csv(\"resolucion_username.csv\",usecols=columnas)\n",
    "resolucion_ip=pd.read_csv(\"resolucion_ip.csv\",usecols=columnas)"
   ]
  },
  {
   "cell_type": "code",
   "execution_count": 55,
   "metadata": {},
   "outputs": [],
   "source": [
    "comentarios_previos=pd.concat([resolucion_username,resolucion_ip])"
   ]
  },
  {
   "cell_type": "code",
   "execution_count": 65,
   "metadata": {},
   "outputs": [
    {
     "data": {
      "text/html": [
       "<div>\n",
       "<style scoped>\n",
       "    .dataframe tbody tr th:only-of-type {\n",
       "        vertical-align: middle;\n",
       "    }\n",
       "\n",
       "    .dataframe tbody tr th {\n",
       "        vertical-align: top;\n",
       "    }\n",
       "\n",
       "    .dataframe thead th {\n",
       "        text-align: right;\n",
       "    }\n",
       "</style>\n",
       "<table border=\"1\" class=\"dataframe\">\n",
       "  <thead>\n",
       "    <tr style=\"text-align: right;\">\n",
       "      <th></th>\n",
       "      <th>timestamp</th>\n",
       "      <th>Usuario_bloqueado</th>\n",
       "      <th>comment</th>\n",
       "    </tr>\n",
       "  </thead>\n",
       "  <tbody>\n",
       "    <tr>\n",
       "      <th>68</th>\n",
       "      <td>2020-07-02 14:38:27</td>\n",
       "      <td>2601:281:8180:50E0:42C:FC5F:CF53:367C</td>\n",
       "      <td>Página creada con «&lt;!--NO SE PONE ESTO: {{d|g1...</td>\n",
       "    </tr>\n",
       "    <tr>\n",
       "      <th>69</th>\n",
       "      <td>2020-07-10 13:45:42</td>\n",
       "      <td>200.74.119.64</td>\n",
       "      <td>Página creada con « {{Portal asociado|Chile}} ...</td>\n",
       "    </tr>\n",
       "    <tr>\n",
       "      <th>70</th>\n",
       "      <td>2020-07-19 08:24:28</td>\n",
       "      <td>168.196.202.191</td>\n",
       "      <td>Página creada con «Donpelis.com sitio web naci...</td>\n",
       "    </tr>\n",
       "    <tr>\n",
       "      <th>71</th>\n",
       "      <td>2020-07-30 19:47:03</td>\n",
       "      <td>177.102.109.140</td>\n",
       "      <td>Página creada con «{{Infobox royalty|title=Kin...</td>\n",
       "    </tr>\n",
       "    <tr>\n",
       "      <th>72</th>\n",
       "      <td>2020-08-01 17:41:03</td>\n",
       "      <td>190.232.153.149</td>\n",
       "      <td>Creado por: HSRJ.</td>\n",
       "    </tr>\n",
       "    <tr>\n",
       "      <th>73</th>\n",
       "      <td>2020-08-09 18:40:38</td>\n",
       "      <td>187.244.94.185</td>\n",
       "      <td>Página creada con «{{Ficha de serie de televis...</td>\n",
       "    </tr>\n",
       "    <tr>\n",
       "      <th>74</th>\n",
       "      <td>2020-08-26 16:00:22</td>\n",
       "      <td>179.36.124.232</td>\n",
       "      <td>Página creada con «Stentor Caudatus It is the ...</td>\n",
       "    </tr>\n",
       "    <tr>\n",
       "      <th>75</th>\n",
       "      <td>2020-09-05 18:36:33</td>\n",
       "      <td>187.237.14.200</td>\n",
       "      <td>Página creada con «Joven mexicano considerado ...</td>\n",
       "    </tr>\n",
       "    <tr>\n",
       "      <th>76</th>\n",
       "      <td>2020-10-01 21:41:17</td>\n",
       "      <td>177.249.56.219</td>\n",
       "      <td>Página creada con «Ely.cats '''si lees esto'''...</td>\n",
       "    </tr>\n",
       "    <tr>\n",
       "      <th>77</th>\n",
       "      <td>2020-10-05 16:39:15</td>\n",
       "      <td>2600:387:0:982:0:0:0:53</td>\n",
       "      <td>Página creada con «{| class=\"infobox\" style=\"f...</td>\n",
       "    </tr>\n",
       "    <tr>\n",
       "      <th>78</th>\n",
       "      <td>2020-11-07 14:11:49</td>\n",
       "      <td>176.87.51.4</td>\n",
       "      <td>Página creada con «Miеrda»</td>\n",
       "    </tr>\n",
       "    <tr>\n",
       "      <th>79</th>\n",
       "      <td>2020-11-09 18:03:34</td>\n",
       "      <td>181.94.154.60</td>\n",
       "      <td>Sección nueva: /* he Añadido información */</td>\n",
       "    </tr>\n",
       "    <tr>\n",
       "      <th>80</th>\n",
       "      <td>2020-11-12 19:18:29</td>\n",
       "      <td>2A0C:5A81:4200:6C00:49C2:2657:8B90:6A5B</td>\n",
       "      <td>Página creada con «Galletones S.L.U fue formad...</td>\n",
       "    </tr>\n",
       "    <tr>\n",
       "      <th>81</th>\n",
       "      <td>2020-11-20 07:31:56</td>\n",
       "      <td>85.49.125.198</td>\n",
       "      <td>Página creada con «Heces.»</td>\n",
       "    </tr>\n",
       "    <tr>\n",
       "      <th>82</th>\n",
       "      <td>2020-12-08 21:06:00</td>\n",
       "      <td>201.254.142.193</td>\n",
       "      <td>Página creada con «la wbsc es el organismo max...</td>\n",
       "    </tr>\n",
       "    <tr>\n",
       "      <th>83</th>\n",
       "      <td>2020-12-13 11:44:06</td>\n",
       "      <td>190.177.79.52</td>\n",
       "      <td>Página creada con «son un grupo que hacen bull...</td>\n",
       "    </tr>\n",
       "    <tr>\n",
       "      <th>84</th>\n",
       "      <td>2020-12-15 23:31:20</td>\n",
       "      <td>187.252.251.50</td>\n",
       "      <td>Artículo creado con el [[WP:ACA|#Asistentedear...</td>\n",
       "    </tr>\n",
       "    <tr>\n",
       "      <th>85</th>\n",
       "      <td>2020-12-30 22:52:11</td>\n",
       "      <td>200.68.138.25</td>\n",
       "      <td>La Guinea es una localidad del municipio de sa...</td>\n",
       "    </tr>\n",
       "    <tr>\n",
       "      <th>86</th>\n",
       "      <td>2021-01-16 00:42:55</td>\n",
       "      <td>190.171.106.29</td>\n",
       "      <td>Página creada con «Mastermindddddddddddddddddd...</td>\n",
       "    </tr>\n",
       "    <tr>\n",
       "      <th>87</th>\n",
       "      <td>2021-01-20 14:59:28</td>\n",
       "      <td>181.10.195.235</td>\n",
       "      <td>Creación de nuevo articulo</td>\n",
       "    </tr>\n",
       "    <tr>\n",
       "      <th>88</th>\n",
       "      <td>2021-02-17 00:54:30</td>\n",
       "      <td>2806:109F:E:375E:340B:AB63:7876:1A65</td>\n",
       "      <td>Página creada con «La LXV Legislatura comenzar...</td>\n",
       "    </tr>\n",
       "    <tr>\n",
       "      <th>89</th>\n",
       "      <td>2021-02-19 14:18:31</td>\n",
       "      <td>187.39.129.78</td>\n",
       "      <td>Página creada con «{{desbloquear|son unas b@su...</td>\n",
       "    </tr>\n",
       "    <tr>\n",
       "      <th>90</th>\n",
       "      <td>2021-02-21 21:28:08</td>\n",
       "      <td>37.10.158.248</td>\n",
       "      <td>Página creada con «Fea, que te veo por la webcam»</td>\n",
       "    </tr>\n",
       "    <tr>\n",
       "      <th>91</th>\n",
       "      <td>2021-02-24 18:32:57</td>\n",
       "      <td>2601:405:4001:1050:BD91:699C:D33D:BD66</td>\n",
       "      <td>Página creada con «nt]ygkjio tufip;glgvkgv y j...</td>\n",
       "    </tr>\n",
       "    <tr>\n",
       "      <th>92</th>\n",
       "      <td>2021-03-30 15:06:30</td>\n",
       "      <td>190.237.41.147</td>\n",
       "      <td>Página creada con «{| align=center class=\"wiki...</td>\n",
       "    </tr>\n",
       "    <tr>\n",
       "      <th>93</th>\n",
       "      <td>2021-04-15 17:13:35</td>\n",
       "      <td>190.236.204.173</td>\n",
       "      <td>Página creada con «una tijera de [[https://es....</td>\n",
       "    </tr>\n",
       "    <tr>\n",
       "      <th>94</th>\n",
       "      <td>2021-04-16 20:51:23</td>\n",
       "      <td>186.79.124.129</td>\n",
       "      <td>Creación de la página</td>\n",
       "    </tr>\n",
       "    <tr>\n",
       "      <th>95</th>\n",
       "      <td>2021-04-20 14:23:06</td>\n",
       "      <td>190.220.156.62</td>\n",
       "      <td>Página creada con «{{Ficha de deportista||nomb...</td>\n",
       "    </tr>\n",
       "    <tr>\n",
       "      <th>96</th>\n",
       "      <td>2021-06-01 06:00:04</td>\n",
       "      <td>186.124.228.124</td>\n",
       "      <td>Página redirigida a [[Mucha Radio]]</td>\n",
       "    </tr>\n",
       "    <tr>\n",
       "      <th>97</th>\n",
       "      <td>2021-08-11 04:28:07</td>\n",
       "      <td>200.74.41.137</td>\n",
       "      <td>frank bottom text</td>\n",
       "    </tr>\n",
       "  </tbody>\n",
       "</table>\n",
       "</div>"
      ],
      "text/plain": [
       "              timestamp                        Usuario_bloqueado  \\\n",
       "68  2020-07-02 14:38:27    2601:281:8180:50E0:42C:FC5F:CF53:367C   \n",
       "69  2020-07-10 13:45:42                            200.74.119.64   \n",
       "70  2020-07-19 08:24:28                          168.196.202.191   \n",
       "71  2020-07-30 19:47:03                          177.102.109.140   \n",
       "72  2020-08-01 17:41:03                          190.232.153.149   \n",
       "73  2020-08-09 18:40:38                           187.244.94.185   \n",
       "74  2020-08-26 16:00:22                           179.36.124.232   \n",
       "75  2020-09-05 18:36:33                           187.237.14.200   \n",
       "76  2020-10-01 21:41:17                           177.249.56.219   \n",
       "77  2020-10-05 16:39:15                  2600:387:0:982:0:0:0:53   \n",
       "78  2020-11-07 14:11:49                              176.87.51.4   \n",
       "79  2020-11-09 18:03:34                            181.94.154.60   \n",
       "80  2020-11-12 19:18:29  2A0C:5A81:4200:6C00:49C2:2657:8B90:6A5B   \n",
       "81  2020-11-20 07:31:56                            85.49.125.198   \n",
       "82  2020-12-08 21:06:00                          201.254.142.193   \n",
       "83  2020-12-13 11:44:06                            190.177.79.52   \n",
       "84  2020-12-15 23:31:20                           187.252.251.50   \n",
       "85  2020-12-30 22:52:11                            200.68.138.25   \n",
       "86  2021-01-16 00:42:55                           190.171.106.29   \n",
       "87  2021-01-20 14:59:28                           181.10.195.235   \n",
       "88  2021-02-17 00:54:30     2806:109F:E:375E:340B:AB63:7876:1A65   \n",
       "89  2021-02-19 14:18:31                            187.39.129.78   \n",
       "90  2021-02-21 21:28:08                            37.10.158.248   \n",
       "91  2021-02-24 18:32:57   2601:405:4001:1050:BD91:699C:D33D:BD66   \n",
       "92  2021-03-30 15:06:30                           190.237.41.147   \n",
       "93  2021-04-15 17:13:35                          190.236.204.173   \n",
       "94  2021-04-16 20:51:23                           186.79.124.129   \n",
       "95  2021-04-20 14:23:06                           190.220.156.62   \n",
       "96  2021-06-01 06:00:04                          186.124.228.124   \n",
       "97  2021-08-11 04:28:07                            200.74.41.137   \n",
       "\n",
       "                                              comment  \n",
       "68  Página creada con «<!--NO SE PONE ESTO: {{d|g1...  \n",
       "69  Página creada con « {{Portal asociado|Chile}} ...  \n",
       "70  Página creada con «Donpelis.com sitio web naci...  \n",
       "71  Página creada con «{{Infobox royalty|title=Kin...  \n",
       "72                                  Creado por: HSRJ.  \n",
       "73  Página creada con «{{Ficha de serie de televis...  \n",
       "74  Página creada con «Stentor Caudatus It is the ...  \n",
       "75  Página creada con «Joven mexicano considerado ...  \n",
       "76  Página creada con «Ely.cats '''si lees esto'''...  \n",
       "77  Página creada con «{| class=\"infobox\" style=\"f...  \n",
       "78                         Página creada con «Miеrda»  \n",
       "79        Sección nueva: /* he Añadido información */  \n",
       "80  Página creada con «Galletones S.L.U fue formad...  \n",
       "81                         Página creada con «Heces.»  \n",
       "82  Página creada con «la wbsc es el organismo max...  \n",
       "83  Página creada con «son un grupo que hacen bull...  \n",
       "84  Artículo creado con el [[WP:ACA|#Asistentedear...  \n",
       "85  La Guinea es una localidad del municipio de sa...  \n",
       "86  Página creada con «Mastermindddddddddddddddddd...  \n",
       "87                         Creación de nuevo articulo  \n",
       "88  Página creada con «La LXV Legislatura comenzar...  \n",
       "89  Página creada con «{{desbloquear|son unas b@su...  \n",
       "90  Página creada con «Fea, que te veo por la webcam»  \n",
       "91  Página creada con «nt]ygkjio tufip;glgvkgv y j...  \n",
       "92  Página creada con «{| align=center class=\"wiki...  \n",
       "93  Página creada con «una tijera de [[https://es....  \n",
       "94                              Creación de la página  \n",
       "95  Página creada con «{{Ficha de deportista||nomb...  \n",
       "96                Página redirigida a [[Mucha Radio]]  \n",
       "97                                  frank bottom text  "
      ]
     },
     "execution_count": 65,
     "metadata": {},
     "output_type": "execute_result"
    }
   ],
   "source": [
    "comentarios_previos['comment']"
   ]
  },
  {
   "cell_type": "markdown",
   "metadata": {},
   "source": [
    "El valor de la muestra aleatoria no se encuentra especificada en el enunciado. Se decide que el mismo sea especificado por el usuario del notebook al momento de su ejecucion.(se pone 20 solo para especificar algo)"
   ]
  },
  {
   "cell_type": "code",
   "execution_count": 116,
   "metadata": {},
   "outputs": [],
   "source": [
    "tamanio_muestra_aleatoria = 20"
   ]
  },
  {
   "cell_type": "code",
   "execution_count": null,
   "metadata": {},
   "outputs": [],
   "source": [
    "muestra_aleatoria_comentarios_usuarios_previo_a_bloqueo=comentarios_previos.loc[:tamanio_muestra_aleatoria,:]['comment']"
   ]
  },
  {
   "cell_type": "markdown",
   "metadata": {},
   "source": [
    "Se pide a su vez una muestra aleatoria de los comentarios para los usuarios en general"
   ]
  },
  {
   "cell_type": "code",
   "execution_count": 119,
   "metadata": {},
   "outputs": [],
   "source": [
    "columnas=['comment']\n",
    "muestra_aleatoria_comentarios_general=pd.read_csv(\"logs.csv\",usecols=columnas,nrows=tamanio_muestra_aleatoria)"
   ]
  },
  {
   "cell_type": "code",
   "execution_count": 120,
   "metadata": {},
   "outputs": [
    {
     "data": {
      "text/html": [
       "<div>\n",
       "<style scoped>\n",
       "    .dataframe tbody tr th:only-of-type {\n",
       "        vertical-align: middle;\n",
       "    }\n",
       "\n",
       "    .dataframe tbody tr th {\n",
       "        vertical-align: top;\n",
       "    }\n",
       "\n",
       "    .dataframe thead th {\n",
       "        text-align: right;\n",
       "    }\n",
       "</style>\n",
       "<table border=\"1\" class=\"dataframe\">\n",
       "  <thead>\n",
       "    <tr style=\"text-align: right;\">\n",
       "      <th></th>\n",
       "      <th>comment</th>\n",
       "    </tr>\n",
       "  </thead>\n",
       "  <tbody>\n",
       "    <tr>\n",
       "      <th>0</th>\n",
       "      <td>el contenido era: 'Si aprendés Pensamiento Cie...</td>\n",
       "    </tr>\n",
       "    <tr>\n",
       "      <th>1</th>\n",
       "      <td>el contenido era: '{{destruir}}en algun lugar ...</td>\n",
       "    </tr>\n",
       "    <tr>\n",
       "      <th>2</th>\n",
       "      <td>el contenido era: '#REDIRECT [[Flash]]'</td>\n",
       "    </tr>\n",
       "    <tr>\n",
       "      <th>3</th>\n",
       "      <td>Sin información de origen ni de licencia. Hay ...</td>\n",
       "    </tr>\n",
       "    <tr>\n",
       "      <th>4</th>\n",
       "      <td>Sustituida por  [[commons:Image:Heckert_GNU.png]]</td>\n",
       "    </tr>\n",
       "    <tr>\n",
       "      <th>5</th>\n",
       "      <td>vandalismo grosero</td>\n",
       "    </tr>\n",
       "    <tr>\n",
       "      <th>6</th>\n",
       "      <td>Logotipo Comuna de La Florida, derecho público...</td>\n",
       "    </tr>\n",
       "    <tr>\n",
       "      <th>7</th>\n",
       "      <td>Fotografía aérea instantánea de los videos de ...</td>\n",
       "    </tr>\n",
       "    <tr>\n",
       "      <th>8</th>\n",
       "      <td>Pablo Zalaquett, Alcalde de La Florida {{PD}}</td>\n",
       "    </tr>\n",
       "    <tr>\n",
       "      <th>9</th>\n",
       "      <td>Está en commons</td>\n",
       "    </tr>\n",
       "    <tr>\n",
       "      <th>10</th>\n",
       "      <td>el contenido era: ''''Pueblo''' de 1200 habita...</td>\n",
       "    </tr>\n",
       "    <tr>\n",
       "      <th>11</th>\n",
       "      <td>el contenido era: '#REDIRECT [[Ayerbe (Huesca)]]'</td>\n",
       "    </tr>\n",
       "    <tr>\n",
       "      <th>12</th>\n",
       "      <td>tags pasivos RFID</td>\n",
       "    </tr>\n",
       "    <tr>\n",
       "      <th>13</th>\n",
       "      <td>reparando un aparente problema de la base de d...</td>\n",
       "    </tr>\n",
       "    <tr>\n",
       "      <th>14</th>\n",
       "      <td>Copyvio</td>\n",
       "    </tr>\n",
       "    <tr>\n",
       "      <th>15</th>\n",
       "      <td>el contenido era: '{{destruir}}' anteriormente...</td>\n",
       "    </tr>\n",
       "    <tr>\n",
       "      <th>16</th>\n",
       "      <td>el contenido era: '{{destruir}}'</td>\n",
       "    </tr>\n",
       "    <tr>\n",
       "      <th>17</th>\n",
       "      <td>el contenido era: '{{destruir}}'</td>\n",
       "    </tr>\n",
       "    <tr>\n",
       "      <th>18</th>\n",
       "      <td>el contenido era: '* [[Daniel Pennac]]'</td>\n",
       "    </tr>\n",
       "    <tr>\n",
       "      <th>19</th>\n",
       "      <td>el contenido era: '{{destruir}}'</td>\n",
       "    </tr>\n",
       "  </tbody>\n",
       "</table>\n",
       "</div>"
      ],
      "text/plain": [
       "                                              comment\n",
       "0   el contenido era: 'Si aprendés Pensamiento Cie...\n",
       "1   el contenido era: '{{destruir}}en algun lugar ...\n",
       "2             el contenido era: '#REDIRECT [[Flash]]'\n",
       "3   Sin información de origen ni de licencia. Hay ...\n",
       "4   Sustituida por  [[commons:Image:Heckert_GNU.png]]\n",
       "5                                  vandalismo grosero\n",
       "6   Logotipo Comuna de La Florida, derecho público...\n",
       "7   Fotografía aérea instantánea de los videos de ...\n",
       "8       Pablo Zalaquett, Alcalde de La Florida {{PD}}\n",
       "9                                     Está en commons\n",
       "10  el contenido era: ''''Pueblo''' de 1200 habita...\n",
       "11  el contenido era: '#REDIRECT [[Ayerbe (Huesca)]]'\n",
       "12                                  tags pasivos RFID\n",
       "13  reparando un aparente problema de la base de d...\n",
       "14                                            Copyvio\n",
       "15  el contenido era: '{{destruir}}' anteriormente...\n",
       "16                   el contenido era: '{{destruir}}'\n",
       "17                   el contenido era: '{{destruir}}'\n",
       "18            el contenido era: '* [[Daniel Pennac]]'\n",
       "19                   el contenido era: '{{destruir}}'"
      ]
     },
     "execution_count": 120,
     "metadata": {},
     "output_type": "execute_result"
    }
   ],
   "source": [
    "muestra_aleatoria_comentarios_general"
   ]
  },
  {
   "cell_type": "code",
   "execution_count": null,
   "metadata": {},
   "outputs": [],
   "source": []
  }
 ],
 "metadata": {
  "kernelspec": {
   "display_name": "Python 3",
   "language": "python",
   "name": "python3"
  },
  "language_info": {
   "codemirror_mode": {
    "name": "ipython",
    "version": 3
   },
   "file_extension": ".py",
   "mimetype": "text/x-python",
   "name": "python",
   "nbconvert_exporter": "python",
   "pygments_lexer": "ipython3",
   "version": "3.6.9"
  }
 },
 "nbformat": 4,
 "nbformat_minor": 2
}
