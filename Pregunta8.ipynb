{
 "cells": [
  {
   "cell_type": "markdown",
   "metadata": {},
   "source": [
    "### Pregunta 8: La mediana de la antigüedad para las últimas ediciones vigentes agrupado por el primer carácter del título"
   ]
  },
  {
   "cell_type": "code",
   "execution_count": 2,
   "metadata": {},
   "outputs": [],
   "source": [
    "import pandas as pd\n",
    "import numpy as np"
   ]
  },
  {
   "cell_type": "markdown",
   "metadata": {},
   "source": [
    "Cada pagina aparece una sola vez en el archivo, entonces solo me interesa el titulo y la fecha de revision"
   ]
  },
  {
   "cell_type": "code",
   "execution_count": 3,
   "metadata": {},
   "outputs": [],
   "source": [
    "columns_contents_1=['title','revision_timestamp']\n",
    "contents_df=pd.read_csv(\"contents.csv\",usecols=columns_contents_1,infer_datetime_format=True)\n",
    "contents_df['revision_timestamp']=pd.to_datetime(contents_df['revision_timestamp'])\n",
    "contents_df=contents_df.dropna()\n",
    "contents_df=contents_df.astype({'title':'string'})\n",
    "contents_df['first_letter']=contents_df['title'].str[0]\n",
    "contents_df=contents_df.drop('title',axis=1)"
   ]
  },
  {
   "cell_type": "markdown",
   "metadata": {},
   "source": [
    "Voy a tomar como punto fijo temporal sobre el cual calcular el mas reciente al momento de ejecucion del notebook. Los valores de timestamp del archivo tienen una zona horaria especificada. Para comparar con el ahora, se la saco"
   ]
  },
  {
   "cell_type": "code",
   "execution_count": 4,
   "metadata": {},
   "outputs": [],
   "source": [
    "from datetime import datetime\n",
    "ahora=datetime.now()"
   ]
  },
  {
   "cell_type": "code",
   "execution_count": 5,
   "metadata": {},
   "outputs": [],
   "source": [
    "contents_df['revision_timestamp']=pd.to_datetime(contents_df.revision_timestamp).dt.tz_convert(None)\n",
    "contents_df['antiguedad']=contents_df['revision_timestamp']-ahora\n",
    "contents_df['antiguedad']=contents_df['antiguedad'].astype('timedelta64[D]')\n",
    "contents_df['antiguedad']=contents_df['antiguedad']*(-1)\n",
    "respuesta=contents_df.loc[:,['first_letter','antiguedad']]\n",
    "respuesta=respuesta.groupby('first_letter').mean().reset_index()\n",
    "respuesta=respuesta.rename(columns={'antiguedad':'antiguedad_media_en_dias'})"
   ]
  },
  {
   "cell_type": "code",
   "execution_count": 6,
   "metadata": {},
   "outputs": [
    {
     "data": {
      "text/html": [
       "<div>\n",
       "<style scoped>\n",
       "    .dataframe tbody tr th:only-of-type {\n",
       "        vertical-align: middle;\n",
       "    }\n",
       "\n",
       "    .dataframe tbody tr th {\n",
       "        vertical-align: top;\n",
       "    }\n",
       "\n",
       "    .dataframe thead th {\n",
       "        text-align: right;\n",
       "    }\n",
       "</style>\n",
       "<table border=\"1\" class=\"dataframe\">\n",
       "  <thead>\n",
       "    <tr style=\"text-align: right;\">\n",
       "      <th></th>\n",
       "      <th>first_letter</th>\n",
       "      <th>antiguedad_media_en_dias</th>\n",
       "    </tr>\n",
       "  </thead>\n",
       "  <tbody>\n",
       "    <tr>\n",
       "      <th>0</th>\n",
       "      <td>!</td>\n",
       "      <td>248.000000</td>\n",
       "    </tr>\n",
       "    <tr>\n",
       "      <th>1</th>\n",
       "      <td>\"</td>\n",
       "      <td>454.090909</td>\n",
       "    </tr>\n",
       "    <tr>\n",
       "      <th>2</th>\n",
       "      <td>$</td>\n",
       "      <td>307.166667</td>\n",
       "    </tr>\n",
       "    <tr>\n",
       "      <th>3</th>\n",
       "      <td>%</td>\n",
       "      <td>103.000000</td>\n",
       "    </tr>\n",
       "    <tr>\n",
       "      <th>4</th>\n",
       "      <td>&amp;</td>\n",
       "      <td>494.666667</td>\n",
       "    </tr>\n",
       "    <tr>\n",
       "      <th>...</th>\n",
       "      <td>...</td>\n",
       "      <td>...</td>\n",
       "    </tr>\n",
       "    <tr>\n",
       "      <th>1841</th>\n",
       "      <td>💣</td>\n",
       "      <td>2186.000000</td>\n",
       "    </tr>\n",
       "    <tr>\n",
       "      <th>1842</th>\n",
       "      <td>🚀</td>\n",
       "      <td>2792.000000</td>\n",
       "    </tr>\n",
       "    <tr>\n",
       "      <th>1843</th>\n",
       "      <td>🧆</td>\n",
       "      <td>927.000000</td>\n",
       "    </tr>\n",
       "    <tr>\n",
       "      <th>1844</th>\n",
       "      <td>𠆢</td>\n",
       "      <td>270.000000</td>\n",
       "    </tr>\n",
       "    <tr>\n",
       "      <th>1845</th>\n",
       "      <td>𠘨</td>\n",
       "      <td>270.000000</td>\n",
       "    </tr>\n",
       "  </tbody>\n",
       "</table>\n",
       "<p>1846 rows × 2 columns</p>\n",
       "</div>"
      ],
      "text/plain": [
       "     first_letter  antiguedad_media_en_dias\n",
       "0               !                248.000000\n",
       "1               \"                454.090909\n",
       "2               $                307.166667\n",
       "3               %                103.000000\n",
       "4               &                494.666667\n",
       "...           ...                       ...\n",
       "1841            💣               2186.000000\n",
       "1842            🚀               2792.000000\n",
       "1843            🧆                927.000000\n",
       "1844            𠆢                270.000000\n",
       "1845            𠘨                270.000000\n",
       "\n",
       "[1846 rows x 2 columns]"
      ]
     },
     "execution_count": 6,
     "metadata": {},
     "output_type": "execute_result"
    }
   ],
   "source": [
    "respuesta"
   ]
  }
 ],
 "metadata": {
  "kernelspec": {
   "display_name": "Python 3",
   "language": "python",
   "name": "python3"
  },
  "language_info": {
   "codemirror_mode": {
    "name": "ipython",
    "version": 3
   },
   "file_extension": ".py",
   "mimetype": "text/x-python",
   "name": "python",
   "nbconvert_exporter": "python",
   "pygments_lexer": "ipython3",
   "version": "3.6.9"
  }
 },
 "nbformat": 4,
 "nbformat_minor": 2
}
